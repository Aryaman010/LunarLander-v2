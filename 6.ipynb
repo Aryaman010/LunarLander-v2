{
 "cells": [
  {
   "cell_type": "code",
   "execution_count": 13,
   "metadata": {},
   "outputs": [],
   "source": [
    "import os\n",
    "import re \n",
    "import gym\n",
    "import tensorflow as tf\n",
    "import numpy as np\n",
    "from stable_baselines import DQN\n",
    "from stable_baselines.common.vec_env import DummyVecEnv\n",
    "from stable_baselines.deepq.policies import LnMlpPolicy\n",
    "from stable_baselines.common.evaluation import evaluate_policy\n",
    "#from stable_baselines3.common.noise import NormalActionNoise, OrnsteinUhlenbeckActionNoise\n"
   ]
  },
  {
   "cell_type": "code",
   "execution_count": 14,
   "metadata": {},
   "outputs": [],
   "source": [
    "env_name = 'LunarLander-v2'\n"
   ]
  },
  {
   "cell_type": "code",
   "execution_count": 15,
   "metadata": {},
   "outputs": [],
   "source": [
    "env = gym.make(env_name)\n",
    "env = DummyVecEnv([lambda: env])\n",
    "tf.compat.v1.get_default_session()"
   ]
  },
  {
   "cell_type": "code",
   "execution_count": 16,
   "metadata": {},
   "outputs": [],
   "source": [
    "filenames = []\n",
    "for zipFilename in os.listdir('.'):\n",
    "    if not zipFilename.endswith('.zip'):\n",
    "        continue \n",
    "    filenames.append(zipFilename)\n",
    "    "
   ]
  },
  {
   "cell_type": "code",
   "execution_count": 17,
   "metadata": {},
   "outputs": [],
   "source": [
    "def sorted_nicely( l ): \n",
    "    \"\"\" Sort the given iterable in the way that humans expect.\"\"\" \n",
    "    convert = lambda text: int(text) if text.isdigit() else text \n",
    "    alphanum_key = lambda key: [ convert(c) for c in re.split('([0-9]+)', key) ] \n",
    "    return sorted(l, key = alphanum_key)"
   ]
  },
  {
   "cell_type": "code",
   "execution_count": 18,
   "metadata": {},
   "outputs": [],
   "source": [
    "li = []\n",
    "for x in sorted_nicely(filenames):\n",
    "    li.append(x)\n"
   ]
  },
  {
   "cell_type": "code",
   "execution_count": 19,
   "metadata": {},
   "outputs": [],
   "source": [
    "# avg_scores = []\n",
    "# for i in range (0,len(li)):\n",
    "#     model = DQN.load(li[i], env = env)\n",
    "#     obs = env.reset()\n",
    "\n",
    "#     episodes = 10\n",
    "#     total_score =0\n",
    "    \n",
    "#     for episode in range(1,episodes-1):\n",
    "#         state = env.reset()\n",
    "#         done = False\n",
    "#         score = 0\n",
    "    \n",
    "#         while not done:\n",
    "#             #env.render()\n",
    "#             action, _states = model.predict(obs) \n",
    "#             obs, reward, done, info = env.step(action)\n",
    "#             score+= reward\n",
    "#             total_score+=reward\n",
    "        \n",
    "#         print('Episode:{} Score{}'.format(episode,score))\n",
    "               \n",
    "    \n",
    "#     print(\"avg score\", str(total_score/episode))\n",
    "# avg_scores.append(total_score/episode) \n",
    "# print(avg_scores)\n",
    "# env.close() "
   ]
  },
  {
   "cell_type": "code",
   "execution_count": null,
   "metadata": {},
   "outputs": [],
   "source": []
  },
  {
   "cell_type": "code",
   "execution_count": 20,
   "metadata": {},
   "outputs": [
    {
     "name": "stdout",
     "output_type": "stream",
     "text": [
      "Episode:1 Score[256.38153]\n",
      "Episode:2 Score[241.38335]\n",
      "Episode:3 Score[-42.447144]\n",
      "Episode:4 Score[217.50339]\n",
      "Episode:5 Score[-94.60146]\n",
      "Episode:6 Score[242.9812]\n",
      "Episode:7 Score[2.107544]\n",
      "Episode:8 Score[-101.705154]\n",
      "avg score [90.200386]\n",
      "Episode:1 Score[276.77237]\n",
      "Episode:2 Score[268.26172]\n",
      "Episode:3 Score[309.42148]\n",
      "Episode:4 Score[245.45638]\n",
      "Episode:5 Score[280.2388]\n",
      "Episode:6 Score[277.02792]\n",
      "Episode:7 Score[312.5351]\n",
      "Episode:8 Score[258.00348]\n",
      "avg score [278.46466]\n",
      "Episode:1 Score[300.12735]\n",
      "Episode:2 Score[156.78691]\n",
      "Episode:3 Score[48.72206]\n",
      "Episode:4 Score[255.22295]\n",
      "Episode:5 Score[159.75461]\n",
      "Episode:6 Score[244.90408]\n",
      "Episode:7 Score[267.50455]\n",
      "Episode:8 Score[263.74594]\n",
      "avg score [212.09596]\n",
      "Episode:1 Score[286.6713]\n",
      "Episode:2 Score[-3.867355]\n",
      "Episode:3 Score[277.49597]\n",
      "Episode:4 Score[232.41245]\n",
      "Episode:5 Score[220.57623]\n",
      "Episode:6 Score[301.8988]\n",
      "Episode:7 Score[275.7456]\n",
      "Episode:8 Score[78.72699]\n",
      "avg score [208.7075]\n",
      "Episode:1 Score[265.1973]\n",
      "Episode:2 Score[258.21448]\n",
      "Episode:3 Score[277.7265]\n",
      "Episode:4 Score[256.99573]\n",
      "Episode:5 Score[228.44054]\n",
      "Episode:6 Score[226.53284]\n",
      "Episode:7 Score[260.2041]\n",
      "Episode:8 Score[261.32214]\n",
      "avg score [254.32935]\n",
      "Episode:1 Score[52.478867]\n",
      "Episode:2 Score[275.28653]\n",
      "Episode:3 Score[265.8419]\n",
      "Episode:4 Score[281.81683]\n",
      "Episode:5 Score[33.23706]\n",
      "Episode:6 Score[279.17303]\n",
      "Episode:7 Score[277.83417]\n",
      "Episode:8 Score[285.41907]\n",
      "avg score [218.88596]\n",
      "Episode:1 Score[12.285112]\n",
      "Episode:2 Score[-152.7544]\n",
      "Episode:3 Score[17.119349]\n",
      "Episode:4 Score[-244.2447]\n",
      "Episode:5 Score[19.300735]\n",
      "Episode:6 Score[-1.3175125]\n",
      "Episode:7 Score[-10.994917]\n",
      "Episode:8 Score[219.09926]\n",
      "avg score [-17.6884]\n",
      "Episode:1 Score[28.570282]\n",
      "Episode:2 Score[149.08266]\n",
      "Episode:3 Score[140.90706]\n",
      "Episode:4 Score[131.24858]\n",
      "Episode:5 Score[38.250046]\n",
      "Episode:6 Score[180.22998]\n",
      "Episode:7 Score[179.35936]\n",
      "Episode:8 Score[281.1985]\n",
      "avg score [141.10594]\n",
      "Episode:1 Score[153.21643]\n",
      "Episode:2 Score[45.81659]\n",
      "Episode:3 Score[154.41087]\n",
      "Episode:4 Score[123.29324]\n",
      "Episode:5 Score[247.69284]\n",
      "Episode:6 Score[155.09671]\n",
      "Episode:7 Score[184.05719]\n",
      "Episode:8 Score[166.89438]\n",
      "avg score [153.80939]\n",
      "Episode:1 Score[31.81253]\n",
      "Episode:2 Score[-31.95845]\n",
      "Episode:3 Score[53.37889]\n",
      "Episode:4 Score[13.910805]\n",
      "Episode:5 Score[44.03586]\n",
      "Episode:6 Score[27.90171]\n",
      "Episode:7 Score[287.39917]\n",
      "Episode:8 Score[57.544037]\n",
      "avg score [60.503044]\n",
      "Episode:1 Score[120.67316]\n",
      "Episode:2 Score[118.196045]\n",
      "Episode:3 Score[163.46803]\n",
      "Episode:4 Score[139.57281]\n",
      "Episode:5 Score[143.03218]\n",
      "Episode:6 Score[239.0855]\n",
      "Episode:7 Score[295.37524]\n",
      "Episode:8 Score[238.08769]\n",
      "avg score [182.18643]\n",
      "Episode:1 Score[58.59709]\n",
      "Episode:2 Score[302.07614]\n",
      "Episode:3 Score[262.7308]\n",
      "Episode:4 Score[288.57617]\n",
      "Episode:5 Score[268.45404]\n",
      "Episode:6 Score[252.28256]\n",
      "Episode:7 Score[150.33795]\n",
      "Episode:8 Score[283.9255]\n",
      "avg score [233.3728]\n",
      "Episode:1 Score[35.640152]\n",
      "Episode:2 Score[240.14847]\n",
      "Episode:3 Score[262.11133]\n",
      "Episode:4 Score[43.153168]\n",
      "Episode:5 Score[198.69519]\n",
      "Episode:6 Score[278.21143]\n",
      "Episode:7 Score[222.80896]\n",
      "Episode:8 Score[60.39686]\n",
      "avg score [167.6457]\n",
      "Episode:1 Score[278.7728]\n",
      "Episode:2 Score[302.59344]\n",
      "Episode:3 Score[280.76184]\n",
      "Episode:4 Score[250.50769]\n",
      "Episode:5 Score[262.63998]\n",
      "Episode:6 Score[266.40662]\n",
      "Episode:7 Score[241.66386]\n",
      "Episode:8 Score[287.86276]\n",
      "avg score [271.4012]\n"
     ]
    }
   ],
   "source": [
    "average_values = []\n",
    "for i in range(0,len(li)):\n",
    "    model = DQN.load(li[i], env = env)\n",
    "    obs = env.reset()\n",
    "\n",
    "    episodes = 10\n",
    "    total_score =0\n",
    "    \n",
    "    for episode in range(1,episodes-1):\n",
    "        state = env.reset()\n",
    "        done = False\n",
    "        score = 0\n",
    "        while not done:\n",
    "            #env.render()\n",
    "            action, _states = model.predict(obs) \n",
    "            obs, reward, done, info = env.step(action)\n",
    "            score+= reward\n",
    "            total_score+=reward\n",
    "           \n",
    "        print('Episode:{} Score{}'.format(episode,score))      \n",
    "    for i in range(1,episode-1):\n",
    "        average = total_score/episode\n",
    "        average_values.append(average)\n",
    "    print(\"avg score\", str(total_score/episode))\n",
    "    "
   ]
  },
  {
   "cell_type": "code",
   "execution_count": 21,
   "metadata": {},
   "outputs": [],
   "source": [
    "average_values = [i.item() for i in average_values]\n"
   ]
  },
  {
   "cell_type": "code",
   "execution_count": 22,
   "metadata": {},
   "outputs": [
    {
     "data": {
      "text/plain": [
       "[90.20038604736328,\n",
       " 278.46466064453125,\n",
       " 212.09596252441406,\n",
       " 208.70750427246094,\n",
       " 254.329345703125,\n",
       " 218.88595581054688,\n",
       " -17.688400268554688,\n",
       " 141.10594177246094,\n",
       " 153.80938720703125,\n",
       " 60.50304412841797,\n",
       " 182.18643188476562,\n",
       " 233.372802734375,\n",
       " 167.6457061767578,\n",
       " 271.4012145996094]"
      ]
     },
     "execution_count": 22,
     "metadata": {},
     "output_type": "execute_result"
    }
   ],
   "source": [
    "def f7(seq):\n",
    "    seen = set()\n",
    "    seen_add = seen.add\n",
    "    return [x for x in seq if not (x in seen or seen_add(x))]\n",
    "    \n",
    "f7(average_values)\n",
    "#print(average_values)"
   ]
  },
  {
   "cell_type": "code",
   "execution_count": 23,
   "metadata": {},
   "outputs": [],
   "source": [
    "a = re.compile(r'\\d+')\n",
    "x = []\n",
    "for i in range(0,len(li)):\n",
    "    num = a.search(li[i])\n",
    "    x.append(int(num.group()))\n"
   ]
  },
  {
   "cell_type": "code",
   "execution_count": 24,
   "metadata": {},
   "outputs": [
    {
     "data": {
      "image/png": "[encoded data removed]",
      "text/plain": [
       "<Figure size 432x288 with 1 Axes>"
      ]
     },
     "metadata": {
      "needs_background": "light"
     },
     "output_type": "display_data"
    }
   ],
   "source": [
    "import matplotlib.pyplot as plt \n",
    "import numpy as np\n",
    "z = np.linspace(0, 5000000,14)\n",
    "plt.plot(z,f7(average_values))\n",
    "plt.xlabel(\"Timestamp\")\n",
    "plt.ylabel(\"Scores\")\n",
    "plt.savefig(\"output6.jpg\")\n",
    "plt.show()\n",
    "\n"
   ]
  },
  {
   "cell_type": "code",
   "execution_count": null,
   "metadata": {},
   "outputs": [],
   "source": []
  },
  {
   "cell_type": "code",
   "execution_count": null,
   "metadata": {},
   "outputs": [],
   "source": []
  },
  {
   "cell_type": "code",
   "execution_count": null,
   "metadata": {},
   "outputs": [],
   "source": []
  },
  {
   "cell_type": "code",
   "execution_count": null,
   "metadata": {},
   "outputs": [],
   "source": []
  },
  {
   "cell_type": "code",
   "execution_count": null,
   "metadata": {},
   "outputs": [],
   "source": []
  }
 ],
 "metadata": {
  "kernelspec": {
   "display_name": "base",
   "language": "python",
   "name": "python3"
  },
  "language_info": {
   "codemirror_mode": {
    "name": "ipython",
    "version": 3
   },
   "file_extension": ".py",
   "mimetype": "text/x-python",
   "name": "python",
   "nbconvert_exporter": "python",
   "pygments_lexer": "ipython3",
   "version": "3.9.12 (main, Apr  4 2022, 05:22:27) [MSC v.1916 64 bit (AMD64)]"
  },
  "orig_nbformat": 4,
  "vscode": {
   "interpreter": {
    "hash": "7905e5bdc3a4b09396595f4a5f1bebdfb87e0edf34cd05783d7187a204bc4b7a"
   }
  }
 },
 "nbformat": 4,
 "nbformat_minor": 2
}
