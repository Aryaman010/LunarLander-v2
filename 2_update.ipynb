{
 "cells": [
  {
   "cell_type": "code",
   "execution_count": 1,
   "metadata": {},
   "outputs": [],
   "source": [
    "import gym\n",
    "import tensorflow as tf\n",
    "import numpy as np\n"
   ]
  },
  {
   "cell_type": "code",
   "execution_count": 2,
   "metadata": {},
   "outputs": [
    {
     "name": "stdout",
     "output_type": "stream",
     "text": [
      "WARNING:tensorflow:\n",
      "The TensorFlow contrib module will not be included in TensorFlow 2.0.\n",
      "For more information, please see:\n",
      "  * https://github.com/tensorflow/community/blob/master/rfcs/20180907-contrib-sunset.md\n",
      "  * https://github.com/tensorflow/addons\n",
      "  * https://github.com/tensorflow/io (for I/O related ops)\n",
      "If you depend on functionality not listed there, please file an issue.\n",
      "\n"
     ]
    },
    {
     "name": "stderr",
     "output_type": "stream",
     "text": [
      "C:\\Users\\Aryaman\\AppData\\Roaming\\Python\\Python36\\site-packages\\stable_baselines\\__init__.py:33: UserWarning: stable-baselines is in maintenance mode, please use [Stable-Baselines3 (SB3)](https://github.com/DLR-RM/stable-baselines3) for an up-to-date version. You can find a [migration guide](https://stable-baselines3.readthedocs.io/en/master/guide/migration.html) in SB3 documentation.\n",
      "  \"stable-baselines is in maintenance mode, please use [Stable-Baselines3 (SB3)](https://github.com/DLR-RM/stable-baselines3) for an up-to-date version. You can find a [migration guide](https://stable-baselines3.readthedocs.io/en/master/guide/migration.html) in SB3 documentation.\"\n"
     ]
    }
   ],
   "source": [
    "from stable_baselines import DQN\n",
    "from stable_baselines.common.vec_env import DummyVecEnv\n",
    "from stable_baselines.deepq.policies import LnMlpPolicy\n",
    "from stable_baselines.common.evaluation import evaluate_policy\n",
    "#from stable_baselines3.common.noise import NormalActionNoise, OrnsteinUhlenbeckActionNoise\n"
   ]
  },
  {
   "cell_type": "code",
   "execution_count": 4,
   "metadata": {},
   "outputs": [],
   "source": [
    "env_name = 'LunarLander-v2'"
   ]
  },
  {
   "cell_type": "code",
   "execution_count": 5,
   "metadata": {},
   "outputs": [],
   "source": [
    "env = gym.make(env_name)\n"
   ]
  },
  {
   "cell_type": "code",
   "execution_count": 6,
   "metadata": {},
   "outputs": [],
   "source": [
    "env = DummyVecEnv([lambda: env])\n"
   ]
  },
  {
   "cell_type": "code",
   "execution_count": 7,
   "metadata": {},
   "outputs": [
    {
     "name": "stdout",
     "output_type": "stream",
     "text": [
      "WARNING:tensorflow:From C:\\Users\\Aryaman\\AppData\\Roaming\\Python\\Python36\\site-packages\\stable_baselines\\common\\tf_util.py:191: The name tf.ConfigProto is deprecated. Please use tf.compat.v1.ConfigProto instead.\n",
      "\n",
      "WARNING:tensorflow:From C:\\Users\\Aryaman\\AppData\\Roaming\\Python\\Python36\\site-packages\\stable_baselines\\common\\tf_util.py:200: The name tf.Session is deprecated. Please use tf.compat.v1.Session instead.\n",
      "\n",
      "WARNING:tensorflow:From C:\\Users\\Aryaman\\AppData\\Roaming\\Python\\Python36\\site-packages\\stable_baselines\\deepq\\dqn.py:129: The name tf.train.AdamOptimizer is deprecated. Please use tf.compat.v1.train.AdamOptimizer instead.\n",
      "\n",
      "WARNING:tensorflow:From C:\\Users\\Aryaman\\AppData\\Roaming\\Python\\Python36\\site-packages\\stable_baselines\\deepq\\build_graph.py:358: The name tf.variable_scope is deprecated. Please use tf.compat.v1.variable_scope instead.\n",
      "\n",
      "WARNING:tensorflow:From C:\\Users\\Aryaman\\AppData\\Roaming\\Python\\Python36\\site-packages\\stable_baselines\\deepq\\build_graph.py:359: The name tf.placeholder is deprecated. Please use tf.compat.v1.placeholder instead.\n",
      "\n",
      "WARNING:tensorflow:From C:\\Users\\Aryaman\\AppData\\Roaming\\Python\\Python36\\site-packages\\stable_baselines\\deepq\\build_graph.py:139: The name tf.get_variable is deprecated. Please use tf.compat.v1.get_variable instead.\n",
      "\n",
      "WARNING:tensorflow:From C:\\Users\\Aryaman\\AppData\\Roaming\\Python\\Python36\\site-packages\\stable_baselines\\deepq\\policies.py:109: flatten (from tensorflow.python.layers.core) is deprecated and will be removed in a future version.\n",
      "Instructions for updating:\n",
      "Use keras.layers.flatten instead.\n",
      "WARNING:tensorflow:From C:\\Users\\Aryaman\\AppData\\Roaming\\Python\\Python36\\site-packages\\tensorflow_core\\python\\layers\\core.py:332: Layer.apply (from tensorflow.python.keras.engine.base_layer) is deprecated and will be removed in a future version.\n",
      "Instructions for updating:\n",
      "Please use `layer.__call__` method instead.\n",
      "WARNING:tensorflow:From C:\\Users\\Aryaman\\AppData\\Roaming\\Python\\Python36\\site-packages\\stable_baselines\\deepq\\build_graph.py:147: The name tf.random_uniform is deprecated. Please use tf.random.uniform instead.\n",
      "\n",
      "WARNING:tensorflow:From C:\\Users\\Aryaman\\AppData\\Roaming\\Python\\Python36\\site-packages\\stable_baselines\\deepq\\build_graph.py:149: where (from tensorflow.python.ops.array_ops) is deprecated and will be removed in a future version.\n",
      "Instructions for updating:\n",
      "Use tf.where in 2.0, which has the same broadcast rule as np.where\n",
      "WARNING:tensorflow:From C:\\Users\\Aryaman\\AppData\\Roaming\\Python\\Python36\\site-packages\\stable_baselines\\deepq\\build_graph.py:372: The name tf.get_collection is deprecated. Please use tf.compat.v1.get_collection instead.\n",
      "\n",
      "WARNING:tensorflow:From C:\\Users\\Aryaman\\AppData\\Roaming\\Python\\Python36\\site-packages\\stable_baselines\\deepq\\build_graph.py:372: The name tf.GraphKeys is deprecated. Please use tf.compat.v1.GraphKeys instead.\n",
      "\n",
      "WARNING:tensorflow:From C:\\Users\\Aryaman\\AppData\\Roaming\\Python\\Python36\\site-packages\\stable_baselines\\deepq\\build_graph.py:372: The name tf.get_variable_scope is deprecated. Please use tf.compat.v1.get_variable_scope instead.\n",
      "\n",
      "WARNING:tensorflow:From C:\\Users\\Aryaman\\AppData\\Roaming\\Python\\Python36\\site-packages\\stable_baselines\\deepq\\build_graph.py:415: The name tf.summary.scalar is deprecated. Please use tf.compat.v1.summary.scalar instead.\n",
      "\n",
      "WARNING:tensorflow:From C:\\Users\\Aryaman\\AppData\\Roaming\\Python\\Python36\\site-packages\\stable_baselines\\deepq\\build_graph.py:449: The name tf.summary.merge_all is deprecated. Please use tf.compat.v1.summary.merge_all instead.\n",
      "\n",
      "WARNING:tensorflow:From C:\\Users\\Aryaman\\AppData\\Roaming\\Python\\Python36\\site-packages\\stable_baselines\\common\\tf_util.py:241: The name tf.global_variables is deprecated. Please use tf.compat.v1.global_variables instead.\n",
      "\n",
      "WARNING:tensorflow:From C:\\Users\\Aryaman\\AppData\\Roaming\\Python\\Python36\\site-packages\\stable_baselines\\common\\tf_util.py:242: The name tf.variables_initializer is deprecated. Please use tf.compat.v1.variables_initializer instead.\n",
      "\n"
     ]
    }
   ],
   "source": [
    "\n",
    "model = DQN(LnMlpPolicy, env, verbose=1)\n",
    "\n"
   ]
  },
  {
   "cell_type": "code",
   "execution_count": null,
   "metadata": {},
   "outputs": [],
   "source": [
    "tf.compat.v1.get_default_session()"
   ]
  },
  {
   "cell_type": "code",
   "execution_count": null,
   "metadata": {},
   "outputs": [],
   "source": [
    "model.learn(total_timesteps=6000)"
   ]
  },
  {
   "cell_type": "code",
   "execution_count": null,
   "metadata": {},
   "outputs": [],
   "source": [
    "model = DQN.load(\"DQN(LnM)-50000_model\", env = env)"
   ]
  },
  {
   "cell_type": "code",
   "execution_count": null,
   "metadata": {},
   "outputs": [],
   "source": [
    "evaluate_policy(model, env,n_eval_episodes=10,render=True)\n",
    "env.close()"
   ]
  },
  {
   "cell_type": "code",
   "execution_count": null,
   "metadata": {},
   "outputs": [],
   "source": [
    "model.save(\"DQN(LnM)-1000_model\")"
   ]
  },
  {
   "cell_type": "code",
   "execution_count": 123,
   "metadata": {},
   "outputs": [
    {
     "name": "stdout",
     "output_type": "stream",
     "text": [
      "Episode:1 Score[268.11023]\n",
      "Episode:2 Score[301.7575]\n",
      "Episode:3 Score[259.70157]\n",
      "Episode:4 Score[255.16362]\n",
      "Episode:5 Score[301.72394]\n",
      "Episode:6 Score[269.70538]\n",
      "Episode:7 Score[304.13513]\n",
      "Episode:8 Score[275.4076]\n",
      "Episode:9 Score[282.66852]\n",
      "Episode:10 Score[285.3806]\n",
      "Episode:11 Score[167.5686]\n",
      "Episode:12 Score[296.36877]\n",
      "Episode:13 Score[280.74545]\n",
      "Episode:14 Score[273.50232]\n",
      "Episode:15 Score[296.45044]\n",
      "Episode:16 Score[271.24597]\n",
      "Episode:17 Score[269.57794]\n",
      "Episode:18 Score[219.01309]\n",
      "Episode:19 Score[291.20703]\n",
      "Episode:20 Score[281.5633]\n",
      "Episode:21 Score[298.2994]\n",
      "Episode:22 Score[285.54425]\n",
      "Episode:23 Score[282.16916]\n",
      "Episode:24 Score[282.82834]\n",
      "Episode:25 Score[245.3093]\n",
      "Episode:26 Score[261.9922]\n",
      "Episode:27 Score[292.2329]\n",
      "Episode:28 Score[270.9876]\n",
      "Episode:29 Score[277.71997]\n",
      "Episode:30 Score[279.32886]\n",
      "Episode:31 Score[237.95547]\n",
      "Episode:32 Score[276.73175]\n",
      "Episode:33 Score[245.95435]\n",
      "Episode:34 Score[46.214767]\n",
      "Episode:35 Score[278.65756]\n",
      "Episode:36 Score[295.96683]\n",
      "Episode:37 Score[282.27954]\n",
      "Episode:38 Score[177.7269]\n",
      "Episode:39 Score[304.38953]\n",
      "Episode:40 Score[273.4656]\n",
      "Episode:41 Score[278.97522]\n",
      "Episode:42 Score[273.01642]\n",
      "Episode:43 Score[238.81764]\n",
      "Episode:44 Score[278.83047]\n",
      "Episode:45 Score[296.90076]\n",
      "Episode:46 Score[302.7614]\n",
      "Episode:47 Score[299.18323]\n",
      "Episode:48 Score[259.1424]\n",
      "Episode:49 Score[262.74667]\n",
      "Episode:50 Score[267.9027]\n",
      "Episode:51 Score[279.94116]\n",
      "Episode:52 Score[292.27313]\n",
      "Episode:53 Score[236.06497]\n",
      "Episode:54 Score[290.9654]\n",
      "Episode:55 Score[269.96808]\n",
      "Episode:56 Score[247.80894]\n",
      "Episode:57 Score[293.70447]\n",
      "Episode:58 Score[299.28534]\n",
      "Episode:59 Score[300.114]\n",
      "Episode:60 Score[292.87164]\n",
      "Episode:61 Score[286.4336]\n",
      "Episode:62 Score[301.95563]\n",
      "Episode:63 Score[279.89322]\n",
      "Episode:64 Score[300.528]\n",
      "Episode:65 Score[270.6547]\n",
      "Episode:66 Score[266.68463]\n",
      "Episode:67 Score[275.32745]\n",
      "Episode:68 Score[238.69995]\n",
      "Episode:69 Score[280.73083]\n",
      "Episode:70 Score[287.9248]\n",
      "Episode:71 Score[237.37347]\n",
      "Episode:72 Score[267.6808]\n",
      "Episode:73 Score[274.44446]\n",
      "Episode:74 Score[265.02216]\n",
      "Episode:75 Score[300.71417]\n",
      "Episode:76 Score[297.85992]\n",
      "Episode:77 Score[281.66052]\n",
      "Episode:78 Score[281.42163]\n",
      "Episode:79 Score[268.82]\n",
      "Episode:80 Score[283.41855]\n",
      "Episode:81 Score[285.839]\n",
      "Episode:82 Score[285.6308]\n",
      "Episode:83 Score[270.23383]\n",
      "Episode:84 Score[305.99506]\n",
      "Episode:85 Score[291.06665]\n",
      "Episode:86 Score[278.28094]\n",
      "Episode:87 Score[279.98523]\n",
      "Episode:88 Score[52.64351]\n",
      "Episode:89 Score[312.70502]\n",
      "Episode:90 Score[277.73132]\n",
      "Episode:91 Score[183.02298]\n",
      "Episode:92 Score[276.4575]\n",
      "Episode:93 Score[256.46857]\n",
      "Episode:94 Score[252.621]\n",
      "Episode:95 Score[280.44827]\n",
      "Episode:96 Score[300.34692]\n",
      "Episode:97 Score[281.55222]\n",
      "Episode:98 Score[273.8573]\n",
      "avg score [270.4087]\n"
     ]
    }
   ],
   "source": [
    "model = DQN.load(\"DQN(LnM)-4000000_model\", env = env)\n",
    "obs = env.reset()\n",
    "\n",
    "episodes = 100\n",
    "total_score =0\n",
    "lst1 = []\n",
    "lst2 = []\n",
    "for episode in range(1,episodes-1):\n",
    "    state = env.reset()\n",
    "    done = False\n",
    "    score = 0\n",
    "    \n",
    "    while not done:\n",
    "        #env.render()\n",
    "        action, _states = model.predict(obs) \n",
    "        obs, reward, done, info = env.step(action)\n",
    "        score+= reward\n",
    "        total_score+=reward\n",
    "\n",
    "    print('Episode:{} Score{}'.format(episode,score))\n",
    "    lst1.append(score)\n",
    "    lst2.append(episode)\n",
    "print(\"avg score\", str(total_score/episode))\n",
    "#print(lst2,lst1)\n",
    "env.close()"
   ]
  },
  {
   "cell_type": "code",
   "execution_count": 124,
   "metadata": {},
   "outputs": [],
   "source": [
    "\n",
    "lst1 = [i.item() for i in lst1]\n"
   ]
  },
  {
   "cell_type": "code",
   "execution_count": 126,
   "metadata": {},
   "outputs": [
    {
     "data": {
      "image/png": "[encoded data removed]",
      "text/plain": [
       "<Figure size 432x288 with 1 Axes>"
      ]
     },
     "metadata": {
      "needs_background": "light"
     },
     "output_type": "display_data"
    }
   ],
   "source": [
    "import matplotlib.pyplot as plt \n",
    "\n",
    "\n",
    "plt.plot(lst2,lst1)\n",
    "plt.xlabel(\"Episodes\")\n",
    "plt.ylabel(\"Scores\")\n",
    "plt.savefig(\"4000000-output.jpg\")\n",
    "\n",
    "plt.show()\n"
   ]
  },
  {
   "cell_type": "code",
   "execution_count": 72,
   "metadata": {},
   "outputs": [],
   "source": [
    "env.close()"
   ]
  },
  {
   "cell_type": "code",
   "execution_count": null,
   "metadata": {},
   "outputs": [],
   "source": []
  },
  {
   "cell_type": "code",
   "execution_count": null,
   "metadata": {},
   "outputs": [],
   "source": []
  },
  {
   "cell_type": "code",
   "execution_count": null,
   "metadata": {},
   "outputs": [],
   "source": []
  }
 ],
 "metadata": {
  "kernelspec": {
   "display_name": "he2",
   "language": "python",
   "name": "python3"
  },
  "language_info": {
   "codemirror_mode": {
    "name": "ipython",
    "version": 3
   },
   "file_extension": ".py",
   "mimetype": "text/x-python",
   "name": "python",
   "nbconvert_exporter": "python",
   "pygments_lexer": "ipython3",
   "version": "3.6.13"
  },
  "orig_nbformat": 4,
  "vscode": {
   "interpreter": {
    "hash": "4da64681f33cbef1aee73846e0608651d3110b5465e1ce25a3b4efceb34c727f"
   }
  }
 },
 "nbformat": 4,
 "nbformat_minor": 2
}
